{
 "cells": [
  {
   "cell_type": "code",
   "execution_count": 26,
   "metadata": {},
   "outputs": [],
   "source": [
    "import pandas as pd\n",
    "import numpy as np\n",
    "from sklearn import linear_model\n",
    "from sklearn.decomposition import PCA\n",
    "import datetime\n",
    "import matplotlib.pyplot as plt\n",
    "import warnings\n",
    "warnings.filterwarnings(\"ignore\")"
   ]
  },
  {
   "cell_type": "code",
   "execution_count": 2,
   "metadata": {},
   "outputs": [],
   "source": [
    "clf = linear_model.Ridge(alpha=0.01)\n",
    "linreg = linear_model.LinearRegression()\n",
    "pca = PCA(n_components=1)"
   ]
  },
  {
   "cell_type": "code",
   "execution_count": 3,
   "metadata": {},
   "outputs": [],
   "source": [
    "def find_dates(start, end, date_full):\n",
    "    ind = np.logical_and((date_full - start) >= 0, (date_full - end) < 0)\n",
    "    return ind"
   ]
  },
  {
   "cell_type": "code",
   "execution_count": 4,
   "metadata": {},
   "outputs": [],
   "source": [
    "def get_data(root = 'z:/share/data/test_data/'):\n",
    "    dates = pd.read_csv(root + './data/calendar.csv')\n",
    "    hs300 = pd.read_csv(root + './data/000300_index.csv')\n",
    "    zz500 = pd.read_csv(root + './data/000905_index.csv')\n",
    "    st_stock = pd.read_csv(root + './data/st_stock.csv')\n",
    "    all_stock = pd.read_csv(root + './data/summary.csv')\n",
    "    \n",
    "    stock_df = pd.DataFrame()\n",
    "    for ticker in all_stock.symbol:\n",
    "        if ticker in st_stock.symbol.values:\n",
    "            continue\n",
    "        stock_df_ = pd.read_csv('./data/' + ticker + '.csv')\n",
    "        stock_df_['ticker'] = ticker\n",
    "        stock_df = stock_df.append(stock_df_)\n",
    "\n",
    "    stock_df = stock_df.reset_index().drop('index', axis = 1)\n",
    "    stock_df = stock_df.drop('est_pb_fttm', axis = 1)\n",
    "    \n",
    "    return stock_df, hs300, zz500"
   ]
  },
  {
   "cell_type": "code",
   "execution_count": 42,
   "metadata": {},
   "outputs": [
    {
     "data": {
      "text/plain": [
       "Index(['adj_factor', 'close', 'date', 'est_pb_fttm', 'est_pb_fy0',\n",
       "       'est_pb_fy1', 'est_pb_fy2', 'est_pb_fy3', 'est_pe_fttm', 'est_pe_fy0',\n",
       "       'est_pe_fy1', 'est_pe_fy2', 'est_pe_fy3', 'high', 'low', 'market_value',\n",
       "       'open', 'pb', 'pe', 'pe_ttm', 'preclose', 'status', 'ticker',\n",
       "       'total_share', 'turnover', 'turnover_ratio', 'volume', 'vwap'],\n",
       "      dtype='object')"
      ]
     },
     "execution_count": 42,
     "metadata": {},
     "output_type": "execute_result"
    }
   ],
   "source": [
    "stock_df.columns"
   ]
  },
  {
   "cell_type": "code",
   "execution_count": 48,
   "metadata": {},
   "outputs": [
    {
     "data": {
      "text/plain": [
       "adj_factor        0.000000\n",
       "close             0.000000\n",
       "date              0.000000\n",
       "est_pb_fttm       1.000000\n",
       "est_pb_fy0        0.014039\n",
       "est_pb_fy1        0.351211\n",
       "est_pb_fy2        0.350448\n",
       "est_pb_fy3        0.357580\n",
       "est_pe_fttm       0.271193\n",
       "est_pe_fy0        0.063711\n",
       "est_pe_fy1        0.272610\n",
       "est_pe_fy2        0.262930\n",
       "est_pe_fy3        0.256583\n",
       "high              0.000000\n",
       "low               0.000000\n",
       "market_value      0.001095\n",
       "open              0.000000\n",
       "pb                0.003918\n",
       "pe                0.054556\n",
       "pe_ttm            0.090984\n",
       "preclose          0.000000\n",
       "status            0.000000\n",
       "ticker            0.000000\n",
       "total_share       0.001095\n",
       "turnover          0.000000\n",
       "turnover_ratio    0.001096\n",
       "volume            0.000000\n",
       "vwap              0.000000\n",
       "dtype: float64"
      ]
     },
     "execution_count": 48,
     "metadata": {},
     "output_type": "execute_result"
    }
   ],
   "source": [
    "stock_df.isna().sum() / len(stock_df)"
   ]
  },
  {
   "cell_type": "code",
   "execution_count": 5,
   "metadata": {},
   "outputs": [],
   "source": [
    "def select_stock(stock_is):\n",
    "    stock_is['ret'] = stock_is.groupby('ticker')['close'].pct_change()\n",
    "    stock_is = stock_is.replace([np.inf, -np.inf], np.nan)\n",
    "    stock_is = stock_is.dropna()\n",
    "    stock_is['fwd_ret'] = stock_is.groupby('ticker')['ret'].shift(-20)\n",
    "\n",
    "    tickers = stock_is.groupby('ticker').tail(20)['ticker']\n",
    "    x_ = stock_is.groupby('ticker').tail(20).drop(['ticker', 'date', 'fwd_ret'], axis = 1)\n",
    "    x = stock_is.dropna().drop(['ticker', 'date', 'fwd_ret'], axis = 1)\n",
    "        \n",
    "    pca.fit(x.append(x_))\n",
    "    x_pca = pca.fit_transform(x)\n",
    "    clf.fit(x_pca, stock_is['fwd_ret'].dropna())\n",
    "    x_pca_ = pca.fit_transform(x_)\n",
    "        \n",
    "    pred_ret = pd.concat([pd.Series(tickers.values), pd.Series(clf.predict(x_pca_))], axis = 1, ignore_index=True)\n",
    "    pred_ret.columns = ['ticker', 'ret']\n",
    "    pred_ret.ret += 1\n",
    "        \n",
    "    pred_ret_agg = pd.concat([pred_ret.drop('ret', axis = 1), pred_ret.groupby('ticker').agg('cumprod')], axis = 1)\n",
    "    pred_ret_agg = pred_ret_agg.groupby('ticker').tail(1).sort_values('ret')\n",
    "    tickers = pred_ret_agg.ticker[-100:].values\n",
    "    return tickers"
   ]
  },
  {
   "cell_type": "code",
   "execution_count": 6,
   "metadata": {},
   "outputs": [],
   "source": [
    "def get_beta(stock_is, hs300_is, zz500_is, tickers):\n",
    "    stock_is['ret'] = stock_is.groupby('ticker')['close'].pct_change()\n",
    "    stock_is = stock_is.replace([np.inf, -np.inf], np.nan)\n",
    "    stock_is = stock_is.dropna()\n",
    "        \n",
    "    ret_is = stock_is.pivot(index = 'ticker', columns='date', values = 'ret').fillna(0)\n",
    "    ret_is = ret_is.loc[ret_is.index.isin(tickers)]\n",
    "    \n",
    "    hs300_is['ret'] = hs300_is.close.pct_change()\n",
    "    zz500_is['ret'] = zz500_is.close.pct_change()    \n",
    "    hs300_is = hs300_is.set_index('date')\n",
    "    zz500_is = zz500_is.set_index('date')\n",
    "    ret_is = ret_is.append(hs300_is.ret)\n",
    "    ret_is = ret_is.append(zz500_is.ret)\n",
    "    ret_is = ret_is.replace([np.inf, -np.inf], np.nan)\n",
    "    ret_is = ret_is.dropna(axis = 1)\n",
    "\n",
    "    y = ret_is.iloc[:-2, :].mean().values\n",
    "    x = ret_is.iloc[-2:, :].values\n",
    "    linreg.fit(x.T, y)\n",
    "    beta = linreg.coef_\n",
    "    return beta"
   ]
  },
  {
   "cell_type": "code",
   "execution_count": 7,
   "metadata": {},
   "outputs": [],
   "source": [
    "def pnl_calc(stock_oos, hs300_oos, zz500_oos, tickers, beta):\n",
    "    stock_oos['ret'] = stock_oos.groupby('ticker')['close'].pct_change()\n",
    "    stock_oos = stock_oos.replace([np.inf, -np.inf], np.nan)\n",
    "    ret_oos = stock_oos.pivot(index = 'ticker', columns='date', values = 'ret').fillna(0)\n",
    "    tickers_ = np.setdiff1d(tickers, ret_oos.index)\n",
    "    for ticker_ in tickers_:\n",
    "        ret_oos.loc[ticker_] = 0\n",
    "        \n",
    "    hs300_oos['ret'] = hs300_oos.close.pct_change()\n",
    "    zz500_oos['ret'] = zz500_oos.close.pct_change()\n",
    "    ret_mkt_oos = pd.concat([hs300_oos.ret, zz500_oos.ret], axis = 1)\n",
    "    ret_mkt_oos = ret_mkt_oos.replace([np.inf, -np.inf], np.nan)\n",
    "    ret_mkt_oos = ret_mkt_oos.fillna(0)\n",
    "    \n",
    "    ret_portfolio = ret_oos.mean().values\n",
    "    ret_hedged = np.dot(ret_mkt_oos, beta)\n",
    "    ret_ = ret_portfolio - ret_hedged\n",
    "    return ret_"
   ]
  },
  {
   "cell_type": "code",
   "execution_count": 12,
   "metadata": {},
   "outputs": [],
   "source": [
    "def back_test(years, stock_df, hs300, zz500):\n",
    "    dates = np.array([])\n",
    "    dates_all = np.array([])\n",
    "    ret = np.array([])\n",
    "    pos = pd.DataFrame(columns=np.append(['HS300', 'ZZ500'], stock_df.ticker.unique()))\n",
    "    \n",
    "    lookback = 12\n",
    "    i = 0\n",
    "    end = stock_df.date.max()\n",
    "    \n",
    "    for year in years:\n",
    "        print('Doing Year', year)\n",
    "        for month in range(1, 13):\n",
    "            i += 1\n",
    "            dates = np.append(dates, year * 1e4 + month * 1e2 + 1)\n",
    "\n",
    "            if dates[-1] >= end:\n",
    "                break\n",
    "\n",
    "            if i <= lookback:\n",
    "                continue\n",
    "\n",
    "            is_start = dates[-lookback-1]\n",
    "            is_end = dates[-1]\n",
    "            oos_start = is_end\n",
    "            oos_end = is_end + 31\n",
    "\n",
    "            # get in-sample data\n",
    "            stock_is = stock_df.loc[find_dates(is_start, is_end, stock_df.date)]\n",
    "            hs300_is = hs300.loc[find_dates(is_start, is_end, hs300.date)]\n",
    "            zz500_is = zz500.loc[find_dates(is_start, is_end, zz500.date)]\n",
    "\n",
    "            # get out-of-sample data\n",
    "            stock_oos = stock_df.loc[find_dates(oos_start, oos_end, stock_df.date)]\n",
    "            hs300_oos = hs300.loc[find_dates(oos_start, oos_end, hs300.date)]\n",
    "            zz500_oos = zz500.loc[find_dates(oos_start, oos_end, zz500.date)]\n",
    "\n",
    "            # do stock selection\n",
    "            tickers = select_stock(stock_is)\n",
    "\n",
    "            # do beta calculation\n",
    "            beta = get_beta(stock_is, hs300_is, zz500_is, tickers)\n",
    "\n",
    "            # do oos back-testing\n",
    "            ret_ = pnl_calc(stock_oos, hs300_oos, zz500_oos, tickers, beta)\n",
    "            ret = np.append(ret, ret_)\n",
    "\n",
    "            # document the positions\n",
    "            pos.loc[int(dates[-1]), tickers] = 1\n",
    "            pos.loc[int(dates[-1]), ['HS300', 'ZZ500']] = beta\n",
    "            dates_all = np.append(dates_all, hs300_oos.date)\n",
    "            \n",
    "        if dates[-1] >= end:\n",
    "            break            \n",
    "    \n",
    "    return pos, ret, dates_all"
   ]
  },
  {
   "cell_type": "code",
   "execution_count": 23,
   "metadata": {},
   "outputs": [],
   "source": [
    "def plot_pnl(ret, dates):\n",
    "    cumret = (ret + 1).cumprod()\n",
    "    fig, ax = plt.subplots(figsize = (10, 6))\n",
    "    ax.plot(dates, cumret)\n",
    "    ax.set_xlabel('Date')\n",
    "    ax.set_ylabel('Cummulative Return')\n",
    "    fig.savefig('pnl.png')"
   ]
  },
  {
   "cell_type": "code",
   "execution_count": 29,
   "metadata": {},
   "outputs": [],
   "source": [
    "def get_dates(dates):\n",
    "    dates_all = np.array([])\n",
    "    for i in range(len(dates)):\n",
    "        year = int(dates[i] / 10000)\n",
    "        month = int(dates[i] / 100) % 100\n",
    "        day = int(dates[i] % 100)\n",
    "        dates_all = np.append(dates_all, datetime.date(year, month, day)) \n",
    "    return dates_all"
   ]
  },
  {
   "cell_type": "code",
   "execution_count": 47,
   "metadata": {},
   "outputs": [],
   "source": [
    "def sharpe(ret):\n",
    "    sharpe = ret.mean() / ret.std() * np.sqrt(252)\n",
    "    return sharpe\n",
    "\n",
    "def sortino(ret, thresh = 0):\n",
    "    sortino = ret.mean() / ret[ret < thresh].std() * np.sqrt(252)\n",
    "    return sortino\n",
    "\n",
    "def mmd(ret):\n",
    "    cumret = (ret + 1).cumprod()\n",
    "    mmd = max(pd.Series(cumret).cummax() - cumret)\n",
    "    return mmd\n",
    "\n",
    "def sterling(ret):\n",
    "    m = mmd(ret)\n",
    "    sterling = ret.mean()/m\n",
    "    return sterling"
   ]
  },
  {
   "cell_type": "code",
   "execution_count": null,
   "metadata": {},
   "outputs": [],
   "source": [
    "years = range(2012, 2019)\n",
    "# stock_df, hs300, zz500 = get_data()\n",
    "hs300 = pd.read_csv('./data/000300_index.csv')\n",
    "zz500 = pd.read_csv('./data/000905_index.csv')\n",
    "stock_df = pd.read_csv('stock_df.csv', index_col = 0)\n",
    "stock_df = stock_df.drop('est_pb_fttm', axis = 1)"
   ]
  },
  {
   "cell_type": "code",
   "execution_count": 13,
   "metadata": {},
   "outputs": [
    {
     "name": "stdout",
     "output_type": "stream",
     "text": [
      "Doing Year 2012\n",
      "Doing Year 2013\n",
      "Doing Year 2014\n",
      "Doing Year 2015\n",
      "Doing Year 2016\n",
      "Doing Year 2017\n"
     ]
    }
   ],
   "source": [
    "pos, ret, dates = back_test(years, stock_df, hs300, zz500)"
   ]
  },
  {
   "cell_type": "code",
   "execution_count": 32,
   "metadata": {
    "scrolled": false
   },
   "outputs": [
    {
     "data": {
      "image/png": "[encoded data removed]",
      "text/plain": [
       "<Figure size 720x432 with 1 Axes>"
      ]
     },
     "metadata": {
      "needs_background": "light"
     },
     "output_type": "display_data"
    }
   ],
   "source": [
    "dates = get_dates(dates)\n",
    "plot_pnl(ret, dates)"
   ]
  },
  {
   "cell_type": "code",
   "execution_count": 61,
   "metadata": {},
   "outputs": [
    {
     "name": "stdout",
     "output_type": "stream",
     "text": [
      "The average annual return is 16.19%\n",
      "The average annual volatility is 16.73%\n",
      "The maximum drawdown is 51.57%\n",
      "The annualized Sharpe ratio is 0.9675\n",
      "The annualized Sortino ratio is 1.0541\n",
      "The Sterling ratio is 0.0012\n"
     ]
    }
   ],
   "source": [
    "print('The average annual return is %.2f%%' %(ret.mean() * 252 * 100))\n",
    "print('The average annual volatility is %.2f%%' %(ret.std() * np.sqrt(252) * 100))\n",
    "print('The maximum drawdown is %.2f%%' % (mmd(ret) * 100))\n",
    "print('The annualized Sharpe ratio is %.4f' % sharpe(ret))\n",
    "print('The annualized Sortino ratio is %.4f' % sortino(ret))\n",
    "print('The Sterling ratio is %.4f' % sterling(ret))"
   ]
  }
 ],
 "metadata": {
  "kernelspec": {
   "display_name": "Python 3",
   "language": "python",
   "name": "python3"
  },
  "language_info": {
   "codemirror_mode": {
    "name": "ipython",
    "version": 3
   },
   "file_extension": ".py",
   "mimetype": "text/x-python",
   "name": "python",
   "nbconvert_exporter": "python",
   "pygments_lexer": "ipython3",
   "version": "3.7.3"
  }
 },
 "nbformat": 4,
 "nbformat_minor": 2
}
